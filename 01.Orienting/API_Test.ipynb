{
 "cells": [
  {
   "cell_type": "code",
   "execution_count": 38,
   "metadata": {},
   "outputs": [
    {
     "name": "stdout",
     "output_type": "stream",
     "text": [
      "Session Key: hC6AatiQ1gqSmlExH~n~JY2iS57O1yYS\n"
     ]
    }
   ],
   "source": [
    "import pandas as pd\n",
    "import requests\n",
    "\n",
    "# LimeSurvey API Configuration\n",
    "API_URL = \"https://visualizationliteracy.limesurvey.net/admin/remotecontrol\"\n",
    "USERNAME = \"marianasteffens\"  # Replace with your LimeSurvey admin username\n",
    "PASSWORD = \"MyThesis123\"  # Replace with your LimeSurvey admin password\n",
    "\n",
    "def get_session_key():\n",
    "    \"\"\"Authenticate and obtain a session key.\"\"\"\n",
    "    payload = {\n",
    "        \"method\": \"get_session_key\",\n",
    "        \"params\": [USERNAME, PASSWORD],\n",
    "        \"id\": 1\n",
    "    }\n",
    "    headers = {\"content-type\": \"application/json\"}\n",
    "    response = requests.post(API_URL, json=payload, headers=headers)\n",
    "    \n",
    "    if response.status_code == 200:\n",
    "        result = response.json().get(\"result\")\n",
    "        print(\"Session Key:\", result)\n",
    "        return result\n",
    "    else:\n",
    "        print(\"Error:\", response.json())\n",
    "        return None\n",
    "\n",
    "# Get session key\n",
    "session_key = get_session_key()\n",
    "\n"
   ]
  },
  {
   "cell_type": "code",
   "execution_count": 39,
   "metadata": {},
   "outputs": [
    {
     "name": "stdout",
     "output_type": "stream",
     "text": [
      "Surveys: [{'sid': '967331', 'surveyls_title': 'Visualization Literacy Assessment', 'startdate': None, 'expires': '2024-12-31 12:29:00', 'active': 'Y'}]\n"
     ]
    }
   ],
   "source": [
    "def list_surveys(session_key):\n",
    "    \"\"\"List all surveys.\"\"\"\n",
    "    payload = {\n",
    "        \"method\": \"list_surveys\",\n",
    "        \"params\": [session_key],\n",
    "        \"id\": 2\n",
    "    }\n",
    "    headers = {\"content-type\": \"application/json\"}\n",
    "    response = requests.post(API_URL, json=payload, headers=headers)\n",
    "    \n",
    "    if response.status_code == 200:\n",
    "        result = response.json().get(\"result\")\n",
    "        print(\"Surveys:\", result)\n",
    "        return result\n",
    "    else:\n",
    "        print(\"Error:\", response.json())\n",
    "        return None\n",
    "\n",
    "# Example usage\n",
    "surveys = list_surveys(session_key)\n"
   ]
  },
  {
   "cell_type": "code",
   "execution_count": 41,
   "metadata": {},
   "outputs": [
    {
     "name": "stdout",
     "output_type": "stream",
     "text": [
      "Survey Language Properties: {'surveyls_survey_id': '967331', 'surveyls_language': 'en', 'surveyls_title': 'Visualization Literacy Assessment', 'surveyls_description': '<p>This survey is designed to assess your visualization literacy.\\xa0</p>\\r\\n\\r\\n<p>\\xa0</p>\\r\\n\\r\\n<p>What is Visualization Literacy? bla bla bla</p>\\r\\n', 'surveyls_welcometext': '<p>Hi, welcome to the visualization literacy test!</p>\\r\\n\\r\\n<p>\\xa0</p>\\r\\n\\r\\n<p>\\xa0</p>\\r\\n', 'surveyls_endtext': '<h2 style=\"text-align: center;\"><strong>You have completed the assessment!</strong></h2>\\r\\n\\r\\n<p style=\"text-align: center;\">Click on the button below to visualize your score and continue the experiment.</p>\\r\\n\\r\\n<p style=\"text-align: center;\"><a href=\"https://streamlit.io\">Link to My Scores</a></p>\\r\\n', 'surveyls_policy_notice': '', 'surveyls_policy_error': None, 'surveyls_policy_notice_label': '', 'surveyls_legal_notice': None, 'surveyls_url': 'https://visualizationliteracyb.streamlit.app/?token={TOKEN}', 'surveyls_urldescription': '', 'surveyls_email_invite_subj': 'Invitation to participate in a survey', 'surveyls_email_invite': 'Dear {FIRSTNAME},<br />\\n<br />\\nYou have been invited to participate in a survey.<br />\\n<br />\\nThe survey is titled:<br />\\n\"{SURVEYNAME}\"<br />\\n<br />\\n\"{SURVEYDESCRIPTION}\"<br />\\n<br />\\nTo participate, please click on the link below.<br />\\n<br />\\nSincerely,<br />\\n<br />\\n{ADMINNAME} ({ADMINEMAIL})<br />\\n<br />\\n----------------------------------------------<br />\\nClick here to do the survey:<br />\\n{SURVEYURL}<br />\\n<br />\\nIf you do not want to participate in this survey and don\\'t want to receive any more invitations please click the following link:<br />\\n{OPTOUTURL}<br />\\n<br />\\nIf you are blocklisted but want to participate in this survey and want to receive invitations please click the following link:<br />\\n{OPTINURL}', 'surveyls_email_remind_subj': 'Reminder to participate in a survey', 'surveyls_email_remind': 'Dear {FIRSTNAME},<br />\\n<br />\\nRecently we invited you to participate in a survey.<br />\\n<br />\\nWe note that you have not yet completed the survey, and wish to remind you that the survey is still available should you wish to take part.<br />\\n<br />\\nThe survey is titled:<br />\\n\"{SURVEYNAME}\"<br />\\n<br />\\n\"{SURVEYDESCRIPTION}\"<br />\\n<br />\\nTo participate, please click on the link below.<br />\\n<br />\\nSincerely,<br />\\n<br />\\n{ADMINNAME} ({ADMINEMAIL})<br />\\n<br />\\n----------------------------------------------<br />\\nClick here to do the survey:<br />\\n{SURVEYURL}<br />\\n<br />\\nIf you do not want to participate in this survey and don\\'t want to receive any more invitations please click the following link:<br />\\n{OPTOUTURL}', 'surveyls_email_register_subj': 'Survey registration confirmation', 'surveyls_email_register': 'Dear {FIRSTNAME},<br />\\n<br />\\nYou, or someone using your email address, have registered to participate in an online survey titled {SURVEYNAME}.<br />\\n<br />\\nTo complete this survey, click on the following URL:<br />\\n<br />\\n{SURVEYURL}<br />\\n<br />\\nIf you have any questions about this survey, or if you did not register to participate and believe this email is in error, please contact {ADMINNAME} at {ADMINEMAIL}.', 'surveyls_email_confirm_subj': 'Confirmation of your participation in our survey', 'surveyls_email_confirm': 'Dear {FIRSTNAME},<br />\\n<br />\\nThis email is to confirm that you have completed the survey titled {SURVEYNAME} and your response has been saved. Thank you for participating.<br />\\n<br />\\nIf you have any further questions about this email, please contact {ADMINNAME} on {ADMINEMAIL}.<br />\\n<br />\\nSincerely,<br />\\n<br />\\n{ADMINNAME}', 'surveyls_dateformat': '9', 'surveyls_attributecaptions': None, 'surveyls_alias': '', 'email_admin_notification_subj': 'Response submission for survey {SURVEYNAME}', 'email_admin_notification': \"Hello,<br />\\n<br />\\nA new response was submitted for your survey '{SURVEYNAME}'.<br />\\n<br />\\nClick the following link to see the individual response:<br />\\n{VIEWRESPONSEURL}<br />\\n<br />\\nClick the following link to edit the individual response:<br />\\n{EDITRESPONSEURL}<br />\\n<br />\\nView statistics by clicking here:<br />\\n{STATISTICSURL}\", 'email_admin_responses_subj': 'Response submission for survey {SURVEYNAME} with results', 'email_admin_responses': \"Hello,<br />\\n<br />\\nA new response was submitted for your survey '{SURVEYNAME}'.<br />\\n<br />\\nClick the following link to see the individual response:<br />\\n{VIEWRESPONSEURL}<br />\\n<br />\\nClick the following link to edit the individual response:<br />\\n{EDITRESPONSEURL}<br />\\n<br />\\nView statistics by clicking here:<br />\\n{STATISTICSURL}<br />\\n<br />\\n<br />\\nThe following answers were given by the participant:<br />\\n{ANSWERTABLE}\", 'surveyls_numberformat': '0', 'attachments': None}\n"
     ]
    }
   ],
   "source": [
    "def get_language_properties(session_key, survey_id):\n",
    "    \"\"\"Fetch language properties for a specific survey.\"\"\"\n",
    "    payload = {\n",
    "        \"method\": \"get_language_properties\",\n",
    "        \"params\": [\n",
    "            session_key,\n",
    "            survey_id\n",
    "        ],\n",
    "        \"id\": 4\n",
    "    }\n",
    "    headers = {\"content-type\": \"application/json\"}\n",
    "    response = requests.post(API_URL, json=payload, headers=headers)\n",
    "    \n",
    "    if response.status_code == 200:\n",
    "        result = response.json().get(\"result\")\n",
    "        print(\"Survey Language Properties:\", result)\n",
    "        return result\n",
    "    else:\n",
    "        print(\"Error:\", response.json())\n",
    "        return None\n",
    "\n",
    "# Call the function to check survey languages\n",
    "language_properties = get_language_properties(session_key, \"967331\")\n"
   ]
  },
  {
   "cell_type": "code",
   "execution_count": 43,
   "metadata": {},
   "outputs": [
    {
     "name": "stdout",
     "output_type": "stream",
     "text": [
      "Responses: eyJyZXNwb25zZXMiOiBbeyJpZCI6IjMiLCJzdWJtaXRkYXRlIjoiMjAyNC0xMS0yNCAxMjo1Mjo0MCIsImxhc3RwYWdlIjoiOCIsInN0YXJ0bGFuZ3VhZ2UiOiJlbiIsInNlZWQiOiI1MzY4ODQ5MDUiLCJ0b2tlbiI6Ik5OQ3pFTmZTMmtZMjd1SSIsInN0YXJ0ZGF0ZSI6IjIwMjQtMTEtMjQgMTI6NTI6MDIiLCJkYXRlc3RhbXAiOiIyMDI0LTExLTI0IDEyOjUyOjQwIiwiaXBhZGRyIjoiMTY1LjIyNS4yNi4yMzUiLCJyZWZ1cmwiOiJodHRwczpcL1wvdmlzdWFsaXphdGlvbmxpdGVyYWN5LmxpbWVzdXJ2ZXkubmV0XC9hZG1pblwvdG9rZW5zP3NhPWluZGV4JnN1cnZleWlkPTk2NzMzMSIsIk4xIjoiQU8wMiIsIk4yIjoiQU8wMyIsIk4zIjoiQU8wMyIsIk40IjoiQU8wMiIsIk41IjoiQU8wMSIsIk42IjoiQU8wMSIsIk43IjoiQU8wMiIsIk44IjoiQU8wMyJ9XX0=\n"
     ]
    }
   ],
   "source": [
    "def fetch_responses(session_key, survey_id):\n",
    "    \"\"\"Fetch all responses for a specific survey.\"\"\"\n",
    "    payload = {\n",
    "        \"method\": \"export_responses\",\n",
    "        \"params\": [\n",
    "            session_key,\n",
    "            survey_id,\n",
    "            \"json\",  # Export format\n",
    "            {\n",
    "                #\"completed\": \"Y\",  # Fetch only completed responses\n",
    "            }\n",
    "        ],\n",
    "        \"id\": 6\n",
    "    }\n",
    "    headers = {\"content-type\": \"application/json\"}\n",
    "    response = requests.post(API_URL, json=payload, headers=headers)\n",
    "    \n",
    "    if response.status_code == 200:\n",
    "        result = response.json().get(\"result\")\n",
    "        print(\"Responses:\", result)\n",
    "        return result\n",
    "    else:\n",
    "        print(\"Error:\", response.json())\n",
    "        return None\n",
    "\n",
    "# Fetch responses\n",
    "responses = fetch_responses(session_key, \"967331\")\n",
    "\n"
   ]
  },
  {
   "cell_type": "code",
   "execution_count": 44,
   "metadata": {},
   "outputs": [
    {
     "name": "stdout",
     "output_type": "stream",
     "text": [
      "Decoded Responses: {\n",
      "    \"responses\": [\n",
      "        {\n",
      "            \"id\": \"3\",\n",
      "            \"submitdate\": \"2024-11-24 12:52:40\",\n",
      "            \"lastpage\": \"8\",\n",
      "            \"startlanguage\": \"en\",\n",
      "            \"seed\": \"536884905\",\n",
      "            \"token\": \"NNCzENfS2kY27uI\",\n",
      "            \"startdate\": \"2024-11-24 12:52:02\",\n",
      "            \"datestamp\": \"2024-11-24 12:52:40\",\n",
      "            \"ipaddr\": \"165.225.26.235\",\n",
      "            \"refurl\": \"https://visualizationliteracy.limesurvey.net/admin/tokens?sa=index&surveyid=967331\",\n",
      "            \"N1\": \"AO02\",\n",
      "            \"N2\": \"AO03\",\n",
      "            \"N3\": \"AO03\",\n",
      "            \"N4\": \"AO02\",\n",
      "            \"N5\": \"AO01\",\n",
      "            \"N6\": \"AO01\",\n",
      "            \"N7\": \"AO02\",\n",
      "            \"N8\": \"AO03\"\n",
      "        }\n",
      "    ]\n",
      "}\n"
     ]
    }
   ],
   "source": [
    "import base64\n",
    "import json\n",
    "\n",
    "def decode_base64_response(encoded_response):\n",
    "    \"\"\"Decode Base64-encoded response from LimeSurvey.\"\"\"\n",
    "    try:\n",
    "        # Decode the Base64 response\n",
    "        decoded_bytes = base64.b64decode(encoded_response)\n",
    "        decoded_string = decoded_bytes.decode('utf-8')\n",
    "        # Convert the string into JSON format\n",
    "        return json.loads(decoded_string)\n",
    "    except Exception as e:\n",
    "        print(f\"Error decoding response: {e}\")\n",
    "        return None\n",
    "\n",
    "# Example usage\n",
    "if responses:\n",
    "    decoded_responses = decode_base64_response(responses)\n",
    "    print(\"Decoded Responses:\", json.dumps(decoded_responses, indent=4))\n"
   ]
  },
  {
   "cell_type": "code",
   "execution_count": 45,
   "metadata": {},
   "outputs": [
    {
     "data": {
      "text/html": [
       "<div>\n",
       "<style scoped>\n",
       "    .dataframe tbody tr th:only-of-type {\n",
       "        vertical-align: middle;\n",
       "    }\n",
       "\n",
       "    .dataframe tbody tr th {\n",
       "        vertical-align: top;\n",
       "    }\n",
       "\n",
       "    .dataframe thead th {\n",
       "        text-align: right;\n",
       "    }\n",
       "</style>\n",
       "<table border=\"1\" class=\"dataframe\">\n",
       "  <thead>\n",
       "    <tr style=\"text-align: right;\">\n",
       "      <th></th>\n",
       "      <th>id</th>\n",
       "      <th>submitdate</th>\n",
       "      <th>lastpage</th>\n",
       "      <th>startlanguage</th>\n",
       "      <th>seed</th>\n",
       "      <th>token</th>\n",
       "      <th>startdate</th>\n",
       "      <th>datestamp</th>\n",
       "      <th>ipaddr</th>\n",
       "      <th>refurl</th>\n",
       "      <th>N1</th>\n",
       "      <th>N2</th>\n",
       "      <th>N3</th>\n",
       "      <th>N4</th>\n",
       "      <th>N5</th>\n",
       "      <th>N6</th>\n",
       "      <th>N7</th>\n",
       "      <th>N8</th>\n",
       "    </tr>\n",
       "  </thead>\n",
       "  <tbody>\n",
       "    <tr>\n",
       "      <th>0</th>\n",
       "      <td>3</td>\n",
       "      <td>2024-11-24 12:52:40</td>\n",
       "      <td>8</td>\n",
       "      <td>en</td>\n",
       "      <td>536884905</td>\n",
       "      <td>NNCzENfS2kY27uI</td>\n",
       "      <td>2024-11-24 12:52:02</td>\n",
       "      <td>2024-11-24 12:52:40</td>\n",
       "      <td>165.225.26.235</td>\n",
       "      <td>https://visualizationliteracy.limesurvey.net/a...</td>\n",
       "      <td>AO02</td>\n",
       "      <td>AO03</td>\n",
       "      <td>AO03</td>\n",
       "      <td>AO02</td>\n",
       "      <td>AO01</td>\n",
       "      <td>AO01</td>\n",
       "      <td>AO02</td>\n",
       "      <td>AO03</td>\n",
       "    </tr>\n",
       "  </tbody>\n",
       "</table>\n",
       "</div>"
      ],
      "text/plain": [
       "  id           submitdate lastpage startlanguage       seed            token  \\\n",
       "0  3  2024-11-24 12:52:40        8            en  536884905  NNCzENfS2kY27uI   \n",
       "\n",
       "             startdate            datestamp          ipaddr  \\\n",
       "0  2024-11-24 12:52:02  2024-11-24 12:52:40  165.225.26.235   \n",
       "\n",
       "                                              refurl    N1    N2    N3    N4  \\\n",
       "0  https://visualizationliteracy.limesurvey.net/a...  AO02  AO03  AO03  AO02   \n",
       "\n",
       "     N5    N6    N7    N8  \n",
       "0  AO01  AO01  AO02  AO03  "
      ]
     },
     "execution_count": 45,
     "metadata": {},
     "output_type": "execute_result"
    }
   ],
   "source": [
    "import pandas as pd\n",
    "\n",
    "# Convert decoded responses into a DataFrame\n",
    "if decoded_responses and \"responses\" in decoded_responses:\n",
    "    response_data = decoded_responses[\"responses\"]\n",
    "    df = pd.DataFrame(response_data)\n",
    "    #print(df)  # For debugging\n",
    "\n",
    "df"
   ]
  },
  {
   "cell_type": "code",
   "execution_count": null,
   "metadata": {},
   "outputs": [],
   "source": []
  }
 ],
 "metadata": {
  "kernelspec": {
   "display_name": "Python 3",
   "language": "python",
   "name": "python3"
  },
  "language_info": {
   "codemirror_mode": {
    "name": "ipython",
    "version": 3
   },
   "file_extension": ".py",
   "mimetype": "text/x-python",
   "name": "python",
   "nbconvert_exporter": "python",
   "pygments_lexer": "ipython3",
   "version": "3.12.3"
  }
 },
 "nbformat": 4,
 "nbformat_minor": 2
}
